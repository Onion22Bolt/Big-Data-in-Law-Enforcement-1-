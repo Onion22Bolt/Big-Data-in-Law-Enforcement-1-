{
  "cells": [
    {
      "cell_type": "markdown",
      "metadata": {
        "id": "view-in-github",
        "colab_type": "text"
      },
      "source": [
        "<a href=\"https://colab.research.google.com/github/Onion22Bolt/Big-Data-in-Law-Enforcement-1-/blob/main/cs2102_aniya_boltabay.ipynb\" target=\"_parent\"><img src=\"https://colab.research.google.com/assets/colab-badge.svg\" alt=\"Open In Colab\"/></a>"
      ]
    },
    {
      "cell_type": "markdown",
      "metadata": {
        "id": "_FalbNIEj9Rv"
      },
      "source": [
        "# Big Data in Law Enforcement"
      ]
    },
    {
      "cell_type": "markdown",
      "metadata": {
        "id": "MPua-BNCj9R3"
      },
      "source": [
        "## Introduction\n",
        "\n",
        "Big Data and Cyber Security are two critical domains in the world of technology and information management. Big Data involves the collection, analysis, and utilization of vast amounts of data to make informed decisions, while Cyber Security focuses on protecting data and systems from various threats in the digital landscape."
      ]
    },
    {
      "cell_type": "markdown",
      "metadata": {
        "id": "CfE1gwCsj9R6"
      },
      "source": [
        "## Objectives\n",
        "\n",
        "- Explore the world of Big Data and Cyber Security.\n",
        "- Understand commonly used languages and libraries in Data Science.\n",
        "- Learn about popular Data Science tools and environments."
      ]
    },
    {
      "cell_type": "markdown",
      "metadata": {
        "id": "GHWByaddj9R7"
      },
      "source": [
        "*Some of the popular languages that Data Scientists use are:*\n",
        "1. Python\n",
        "2. R\n",
        "3. SQL"
      ]
    },
    {
      "cell_type": "markdown",
      "metadata": {
        "id": "bNg_ToN2j9R8"
      },
      "source": [
        "| Data Science Tools  |\n",
        "|---------------------|\n",
        "| Jupyter Notebook    |\n",
        "| Apache Spark        |\n",
        "| TensorFlow          |"
      ]
    },
    {
      "cell_type": "markdown",
      "metadata": {
        "id": "1x3N3Cglj9R9"
      },
      "source": [
        "### Below are a few examples of evaluating arithmetic expressions in Python."
      ]
    },
    {
      "cell_type": "code",
      "execution_count": 1,
      "metadata": {
        "vscode": {
          "languageId": "plaintext"
        },
        "colab": {
          "base_uri": "https://localhost:8080/"
        },
        "id": "zwOdqRK9j9R-",
        "outputId": "480fb9f4-5c08-4418-e91e-e8c0d76a9ada"
      },
      "outputs": [
        {
          "output_type": "execute_result",
          "data": {
            "text/plain": [
              "33"
            ]
          },
          "metadata": {},
          "execution_count": 1
        }
      ],
      "source": [
        "# This is a simple arithmetic expression\n",
        "result = (4 * 6) + 9\n",
        "result"
      ]
    },
    {
      "cell_type": "code",
      "execution_count": 2,
      "metadata": {
        "vscode": {
          "languageId": "plaintext"
        },
        "colab": {
          "base_uri": "https://localhost:8080/"
        },
        "id": "9F8wF7BIj9SC",
        "outputId": "8c61d5e4-1771-45d6-e85e-32a0702c8978"
      },
      "outputs": [
        {
          "output_type": "execute_result",
          "data": {
            "text/plain": [
              "5.0"
            ]
          },
          "metadata": {},
          "execution_count": 2
        }
      ],
      "source": [
        "# This will convert 300 minutes to hours by dividing by 60\n",
        "minutes = 300\n",
        "hours = minutes / 60\n",
        "hours"
      ]
    },
    {
      "cell_type": "markdown",
      "source": [
        "## Author\n",
        "\n",
        "Aniya Boltabay"
      ],
      "metadata": {
        "id": "9XmvEvgCnJAF"
      }
    }
  ],
  "metadata": {
    "language_info": {
      "name": "python"
    },
    "colab": {
      "provenance": [],
      "toc_visible": true,
      "include_colab_link": true
    },
    "kernelspec": {
      "name": "python3",
      "display_name": "Python 3"
    }
  },
  "nbformat": 4,
  "nbformat_minor": 0
}